{
 "cells": [
  {
   "cell_type": "markdown",
   "metadata": {},
   "source": [
    "# Optimal map for minimisation of interpolation upper bound"
   ]
  },
  {
   "cell_type": "code",
   "execution_count": 2,
   "metadata": {},
   "outputs": [],
   "source": [
    "# import all relevant libraries\n",
    "import torch\n",
    "from torch import nn\n",
    "\n",
    "import numpy as np\n",
    "import sympy as sy\n",
    "import mpmath as mp \n",
    "\n",
    "import matplotlib.pyplot as plt\n",
    "from collections import OrderedDict\n",
    "\n",
    "from scipy.interpolate import InterpolatedUnivariateSpline as IUS\n",
    "%matplotlib inline"
   ]
  },
  {
   "cell_type": "markdown",
   "metadata": {},
   "source": [
    "## Miniminise interpolation error\n",
    "\n",
    "k: degree of interpolating piecewise polynommials\n",
    "\n",
    "m: Order of derivatives in the Hilbert space 0 <= m <= k\n",
    "\n",
    "p: norm in Sobolev space\n",
    "\n",
    "Choose k = 1, m = 0 and p = 2\n",
    "\n",
    "Error bound is\n",
    "\n",
    "|u - u_k|^2_L^2 <= C sum h_j^5 |u|^2_H^2  if u in H^2\n",
    "\n",
    "For simplicity replace |u| by evaluating u directly at the midpoint of the interval h_j.\n",
    "\n",
    "The output of the network must be the transformation map xi -> x."
   ]
  },
  {
   "cell_type": "code",
   "execution_count": 4,
   "metadata": {},
   "outputs": [
    {
     "name": "stdout",
     "output_type": "stream",
     "text": [
      "cuda\n"
     ]
    }
   ],
   "source": [
    "# CUDA support \n",
    "if torch.cuda.is_available():\n",
    "    device = torch.device('cuda')\n",
    "else:\n",
    "    device = torch.device('cpu')\n",
    "\n",
    "#device = 'cpu'\n",
    "print(device)"
   ]
  },
  {
   "cell_type": "code",
   "execution_count": 3,
   "metadata": {},
   "outputs": [],
   "source": [
    "class softplus_power(torch.nn.Module):\n",
    "    def __init(self):\n",
    "        super.__init__()\n",
    "\n",
    "    def forward(self, x):\n",
    "        m = nn.Softplus()\n",
    "        x = m(x)\n",
    "        return x**1.1"
   ]
  },
  {
   "cell_type": "code",
   "execution_count": 5,
   "metadata": {},
   "outputs": [],
   "source": [
    "class ResNN(nn.Module):\n",
    "    def __init__(self, n_inputs, n_outputs, n_layers, n_npl,lb,ub):\n",
    "        super().__init__()\n",
    "        self.n_inps = n_inputs\n",
    "        self.lb = lb\n",
    "        self.ub = ub\n",
    "        if n_layers == 0:\n",
    "            self.layers = nn.ModuleList()\n",
    "            self.activations = nn.ModuleList()\n",
    "            self.layers.append(nn.Linear(n_inputs, n_outputs))\n",
    "        else:\n",
    "            self.layers = nn.ModuleList()\n",
    "            self.activations = nn.ModuleList()\n",
    "\n",
    "            self.layers.append(nn.Linear(n_inputs, n_npl))\n",
    "            self.activations.append(nn.LeakyReLU())\n",
    "\n",
    "            for x in range(n_layers-1):\n",
    "                # add n_inputs as shown in Fig.1 in the paper\n",
    "                self.layers.append(nn.Linear(n_npl + n_inputs, n_npl))\n",
    "                self.activations.append(nn.LeakyReLU())\n",
    "            self.layers.append(nn.Linear(n_npl + n_inputs, n_outputs))\n",
    "\n",
    "    '''\n",
    "    Forward pass - Simple fully connected network with given activations\n",
    "    '''\n",
    "\n",
    "    def forward(self, x):\n",
    "        inps = x\n",
    "        out = x\n",
    "        for i in range(len(self.layers)-1):\n",
    "            if i > 0:\n",
    "                # stack out and inps along dim = 1 as hstack\n",
    "                # from the second layer the activaction function is activated on n° nodes: inps + out\n",
    "                out = torch.cat((out, inps), dim=1)\n",
    "            out = self.layers[i](out)\n",
    "            out = self.activations[i](out)\n",
    "\n",
    "        if len(self.layers) != 1:\n",
    "            out = torch.cat((out, inps), dim=1)\n",
    "\n",
    "        # out is of shape (ndata,1)\n",
    "        out = self.layers[-1](out)\n",
    "        out = rescale(out,self.lb,self.ub)    \n",
    "        return out\n",
    "    \n",
    "    \n",
    "    def make_convex(self):\n",
    "        with torch.no_grad():\n",
    "            for i in range(1, len(self.layers)):\n",
    "                if i == 0:\n",
    "                    self.layers[i].weight[:, :][self.layers[i].weight[:, :] < 0] = \\\n",
    "                        torch.abs(self.layers[i].weight[:, :]\n",
    "                                  [self.layers[i].weight[:, :] < 0])\n",
    "                self.layers[i].weight[:, :-self.n_inps][self.layers[i].weight[:, :-self.n_inps] < 0] = \\\n",
    "                    torch.abs(self.layers[i].weight[:, :-self.n_inps]\n",
    "                              [self.layers[i].weight[:, :-self.n_inps] < 0])\n",
    "\n",
    "    '''\n",
    "    Sets all negative weights (W^z) to 0\n",
    "    '''\n",
    "\n",
    "    def project(self):\n",
    "        with torch.no_grad():\n",
    "            for i in range(1, len(self.layers)):\n",
    "                if i == 0:\n",
    "                    self.layers[i].weight[:,\n",
    "                                          :][self.layers[i].weight[:, :] < 0] = 0\n",
    "                self.layers[i].weight[:, :-\n",
    "                                      self.n_inps][self.layers[i].weight[:, :-self.n_inps] < 0] = 0\n",
    "\n",
    "    "
   ]
  },
  {
   "cell_type": "code",
   "execution_count": 7,
   "metadata": {},
   "outputs": [],
   "source": [
    "  def rescale(x,lb,ub):\n",
    "    \"\"\" rescaling function to impose boundary conditions \"\"\"           \n",
    "    \n",
    "    x = torch.sort(x)[0]\n",
    "    # Avoid to have to equal coordinates, add a random eps to each variable \n",
    "    \n",
    "    y = x - torch.min(x) \n",
    "    z = y.squeeze()/(torch.max(y).squeeze())\n",
    "    z = lb + (ub - lb)*z\n",
    "    \n",
    "    return z "
   ]
  },
  {
   "cell_type": "markdown",
   "metadata": {},
   "source": [
    "### The Physics-Informed Neural Network"
   ]
  },
  {
   "cell_type": "markdown",
   "metadata": {},
   "source": [
    "self.optimizer = torch.optim.LBFGS(\n",
    "            self.dnn.parameters(),   # derived from class nn.Module\n",
    "            lr=0.01,                  # default is 1\n",
    "            max_iter=1000, \n",
    "            max_eval=1000, \n",
    "            history_size=50,\n",
    "            tolerance_grad=1e-10, \n",
    "            tolerance_change=1.0 * np.finfo(float).eps,   # Machine limits for floating point types.\n",
    "            #line_search_fn=\"strong_wolfe\"       # can be \"strong_wolfe\" worse result\n",
    "        )"
   ]
  },
  {
   "cell_type": "code",
   "execution_count": 305,
   "metadata": {},
   "outputs": [],
   "source": [
    "def init_weights(m):\n",
    "    with torch.no_grad():\n",
    "        \n",
    "        if type(m) == torch.nn.Linear:\n",
    "            m.weight.normal_(0, 0.01)\n",
    "            m.bias.normal_(0, 0.01)\n",
    "\n",
    "class PhysicsInformedNN():\n",
    "\n",
    "    def __init__(self, N, xi, u, layers, lb, ub, netRes = True, k = 1, m = 0):\n",
    "        \n",
    "        # boundary conditions\n",
    "        self.lb = torch.tensor(lb).float().to(device)\n",
    "        self.ub = torch.tensor(ub).float().to(device)\n",
    "        \n",
    "        self.loss = []\n",
    "        # data\n",
    "        self.N = N\n",
    "        self.xi = torch.tensor(xi, requires_grad=True).float().to(device).unsqueeze(-1)\n",
    "        self.layers = layers\n",
    "        self.u = u \n",
    "        self.k = k\n",
    "        self.m = m\n",
    "        # deep neural networks\n",
    "        #self.dnn = DNN(self.layers,self.lb,self.ub).to(device)\n",
    "        \n",
    "        if Resnet:\n",
    "            self.dnn = ResNN(*self.layers,self.lb,self.ub).to(device)\n",
    "        else:\n",
    "            self.dnn = DNN(self.layers,self.lb,self.ub).to(device)\n",
    "        \n",
    "        torch.manual_seed(1234)\n",
    "        self.dnn.apply(init_weights)\n",
    "        # optimizers: using the same settings\n",
    "        #self.optimizer = torch.optim.RMSprop(self.dnn.parameters(),lr = 1e-5)\n",
    "        \n",
    "        ## works well when the first/second order derivative is computed analitycally\n",
    "        #self.optimizer = torch.optim.Adadelta(self.dnn.parameters())\n",
    "        \n",
    "        ## works well when the first/second order derivative is approximated\n",
    "        self.optimizer = torch.optim.Adam(self.dnn.parameters(),lr = 0.01)\n",
    "        self.iter = 0\n",
    "        \n",
    "        self.dnn.make_convex()\n",
    "\n",
    "    def derivative(self,p,u):\n",
    "        \n",
    "        \"\"\" Compute first/second order derivative of u\"\"\"\n",
    "                \n",
    "        X = p.detach()\n",
    "        eps = 1e-4*torch.randn(*X.shape).to(device)\n",
    "        X += eps\n",
    "        X = rescale(X,self.lb,self.ub)\n",
    "        X = X.cpu().numpy()\n",
    "\n",
    "        Y = u.detach().cpu().numpy()\n",
    "        # interpolate with scipy and compute second derivative at the required points\n",
    "        try:   \n",
    "            u_interp = IUS(X,Y)\n",
    "        except:\n",
    "            raise ValueError\n",
    "        \n",
    "        u_x = u_interp.derivative()\n",
    "        u_xx = u_x.derivative()\n",
    "        \n",
    "        X = (X[1:] + X[:-1])/2\n",
    "        res = u_x(X) \n",
    "        \n",
    "        res = torch.tensor(res).float().to(device)\n",
    "        \n",
    "        #######################################################################\n",
    "        \n",
    "        # evaluate second derivative directly at middle points p\n",
    "        #x = (p[1:] + p[:-1])/2\n",
    "        #x = x.detach().cpu().numpy()\n",
    "        \n",
    "        #u = np.zeros_like(x)\n",
    "        ### compute analitycally the first derivative ###\n",
    "        #for i,v in enumerate(x):\n",
    "        #    u[i] = -200*(mp.sech(10*v)**2)*np.tanh(10*v)\n",
    "        \n",
    "        ### compute analitycally the first derivative  ###\n",
    "        #for i,v in enumerate(x):\n",
    "        #    u[i] = 10*mp.sech(10*v)**2\n",
    "        \n",
    "        #u_xx = torch.tensor(u).float().to(device)\n",
    "    \n",
    "        return res\n",
    "    \n",
    "    def optimal_alpha(self,h,u_xx):\n",
    "        \n",
    "        Sum = torch.sum(h*u_xx**(2/(1+2*(self.k-self.m+1))))\n",
    "        alpha = torch.pow(1/(self.ub - self.lb)*Sum,1+2*(self.k-self.m+1))\n",
    "        \n",
    "        return alpha\n",
    "        \n",
    "    def net_equid(self,N,xi):\n",
    "    \n",
    "        p = self.dnn(xi)\n",
    "        h = p.squeeze()\n",
    "        h = torch.sort(h)[0]\n",
    "        h = h[1:] - h[:-1]\n",
    "        \n",
    "        u = self.u(10*p)\n",
    "        u_xx = self.derivative(p,u)\n",
    "        alpha = self.optimal_alpha(h,u_xx)\n",
    "        integral = (u_xx**2).squeeze()\n",
    "        \n",
    "        #print('integral',integral)\n",
    "        f = h*torch.pow(1 + 1/alpha*integral,1/(1+2*(self.k-self.m+1)))\n",
    "        f = torch.pow(f,1+2*(self.k-self.m+1))\n",
    "        return f,alpha\n",
    "    \n",
    "    def loss_func(self):\n",
    "        \n",
    "        self.optimizer.zero_grad()\n",
    "        f,alpha = self.net_equid(self.N,self.xi)\n",
    "        Loss = ((self.N-1)**(2*(self.k-self.m+1)))*alpha*torch.sum(f)\n",
    "        self.loss.append(Loss)\n",
    "        Loss.backward()\n",
    "        print('Iter %d, Loss: %.5e' % (self.iter, Loss.item()))\n",
    "        return Loss\n",
    "    \n",
    "    def get_loss(self):\n",
    "        return self.loss\n",
    "    \n",
    "    def train(self):\n",
    "        net.project()\n",
    "        self.dnn.train()\n",
    "        self.iter += 1   \n",
    "        # Backward and optimize\n",
    "        self.optimizer.step(self.loss_func)\n",
    "        \n",
    "        relErr = 100\n",
    "        if self.iter > 2:\n",
    "            relErr = np.abs(self.loss[-1].item() - self.loss[-2].item())/(self.loss[-2].item())\n",
    "        \n",
    "        if relErr < 1e-7:\n",
    "            return False\n",
    "        else:\n",
    "            return True\n",
    "                     \n",
    "    def predict(self, Xi):\n",
    "        \n",
    "        Xi = torch.tensor(Xi, requires_grad=True).float().unsqueeze(-1).to(device)\n",
    "        self.dnn.eval()\n",
    "        p = self.dnn(Xi)\n",
    "        p = rescale(p,self.lb,self.ub)\n",
    "        return p"
   ]
  },
  {
   "cell_type": "code",
   "execution_count": 306,
   "metadata": {},
   "outputs": [],
   "source": [
    "# create uniform mesh with N points\n",
    "N = 100\n",
    "a = -1.0\n",
    "b = 1.0\n",
    "\n",
    "u = torch.tanh\n",
    "xi = np.linspace(a,b,N)"
   ]
  },
  {
   "cell_type": "markdown",
   "metadata": {},
   "source": [
    "### Training"
   ]
  },
  {
   "cell_type": "code",
   "execution_count": 307,
   "metadata": {},
   "outputs": [],
   "source": [
    "# reset model paramters\n",
    "Resnet = 1\n",
    "\n",
    "if Resnet:\n",
    "    layers_ResNN = [1, 1, 5, 256]\n",
    "    net = ResNN(*layers_ResNN,a,b)\n",
    "else:\n",
    "    layers_DNN = [1, 128, 128, 128, 128, 128, 128, 128, 1]\n",
    "    net = DNN(layers_DNN,a,b)\n",
    "    \n",
    "dic = net.state_dict()\n",
    "for k in dic:\n",
    "    dic[k] *= 0\n",
    "net.load_state_dict(dic)\n",
    "del(dic)"
   ]
  },
  {
   "cell_type": "code",
   "execution_count": 308,
   "metadata": {},
   "outputs": [],
   "source": [
    "model = PhysicsInformedNN(N, xi, u, layers_ResNN, a, b, Resnet)"
   ]
  },
  {
   "cell_type": "code",
   "execution_count": 310,
   "metadata": {},
   "outputs": [
    {
     "ename": "ValueError",
     "evalue": "",
     "output_type": "error",
     "traceback": [
      "\u001b[0;31m---------------------------------------------------------------------------\u001b[0m",
      "\u001b[0;31mValueError\u001b[0m                                Traceback (most recent call last)",
      "\u001b[0;32m<ipython-input-305-446b05675d13>\u001b[0m in \u001b[0;36mderivative\u001b[0;34m(self, p, u)\u001b[0m\n\u001b[1;32m     58\u001b[0m         \u001b[0;32mtry\u001b[0m\u001b[0;34m:\u001b[0m\u001b[0;34m\u001b[0m\u001b[0;34m\u001b[0m\u001b[0m\n\u001b[0;32m---> 59\u001b[0;31m             \u001b[0mu_interp\u001b[0m \u001b[0;34m=\u001b[0m \u001b[0mIUS\u001b[0m\u001b[0;34m(\u001b[0m\u001b[0mX\u001b[0m\u001b[0;34m,\u001b[0m\u001b[0mY\u001b[0m\u001b[0;34m)\u001b[0m\u001b[0;34m\u001b[0m\u001b[0;34m\u001b[0m\u001b[0m\n\u001b[0m\u001b[1;32m     60\u001b[0m         \u001b[0;32mexcept\u001b[0m\u001b[0;34m:\u001b[0m\u001b[0;34m\u001b[0m\u001b[0;34m\u001b[0m\u001b[0m\n",
      "\u001b[0;32m~/.local/lib/python3.8/site-packages/scipy/interpolate/fitpack2.py\u001b[0m in \u001b[0;36m__init__\u001b[0;34m(self, x, y, w, bbox, k, ext, check_finite)\u001b[0m\n\u001b[1;32m    619\u001b[0m \u001b[0;34m\u001b[0m\u001b[0m\n\u001b[0;32m--> 620\u001b[0;31m         x, y, w, bbox, self.ext = self.validate_input(x, y, w, bbox, k, None,\n\u001b[0m\u001b[1;32m    621\u001b[0m                                             ext, check_finite)\n",
      "\u001b[0;32m~/.local/lib/python3.8/site-packages/scipy/interpolate/fitpack2.py\u001b[0m in \u001b[0;36mvalidate_input\u001b[0;34m(x, y, w, bbox, k, s, ext, check_finite)\u001b[0m\n\u001b[1;32m    196\u001b[0m             \u001b[0;32mif\u001b[0m \u001b[0;32mnot\u001b[0m \u001b[0mnp\u001b[0m\u001b[0;34m.\u001b[0m\u001b[0mall\u001b[0m\u001b[0;34m(\u001b[0m\u001b[0mdiff\u001b[0m\u001b[0;34m(\u001b[0m\u001b[0mx\u001b[0m\u001b[0;34m)\u001b[0m \u001b[0;34m>=\u001b[0m \u001b[0;36m0.0\u001b[0m\u001b[0;34m)\u001b[0m\u001b[0;34m:\u001b[0m\u001b[0;34m\u001b[0m\u001b[0;34m\u001b[0m\u001b[0m\n\u001b[0;32m--> 197\u001b[0;31m                 \u001b[0;32mraise\u001b[0m \u001b[0mValueError\u001b[0m\u001b[0;34m(\u001b[0m\u001b[0;34m\"x must be increasing if s > 0\"\u001b[0m\u001b[0;34m)\u001b[0m\u001b[0;34m\u001b[0m\u001b[0;34m\u001b[0m\u001b[0m\n\u001b[0m\u001b[1;32m    198\u001b[0m         \u001b[0;32melse\u001b[0m\u001b[0;34m:\u001b[0m\u001b[0;34m\u001b[0m\u001b[0;34m\u001b[0m\u001b[0m\n",
      "\u001b[0;31mValueError\u001b[0m: x must be increasing if s > 0",
      "\nDuring handling of the above exception, another exception occurred:\n",
      "\u001b[0;31mValueError\u001b[0m                                Traceback (most recent call last)",
      "\u001b[0;32m<timed exec>\u001b[0m in \u001b[0;36m<module>\u001b[0;34m\u001b[0m\n",
      "\u001b[0;32m<ipython-input-305-446b05675d13>\u001b[0m in \u001b[0;36mtrain\u001b[0;34m(self)\u001b[0m\n\u001b[1;32m    130\u001b[0m         \u001b[0mself\u001b[0m\u001b[0;34m.\u001b[0m\u001b[0miter\u001b[0m \u001b[0;34m+=\u001b[0m \u001b[0;36m1\u001b[0m\u001b[0;34m\u001b[0m\u001b[0;34m\u001b[0m\u001b[0m\n\u001b[1;32m    131\u001b[0m         \u001b[0;31m# Backward and optimize\u001b[0m\u001b[0;34m\u001b[0m\u001b[0;34m\u001b[0m\u001b[0;34m\u001b[0m\u001b[0m\n\u001b[0;32m--> 132\u001b[0;31m         \u001b[0mself\u001b[0m\u001b[0;34m.\u001b[0m\u001b[0moptimizer\u001b[0m\u001b[0;34m.\u001b[0m\u001b[0mstep\u001b[0m\u001b[0;34m(\u001b[0m\u001b[0mself\u001b[0m\u001b[0;34m.\u001b[0m\u001b[0mloss_func\u001b[0m\u001b[0;34m)\u001b[0m\u001b[0;34m\u001b[0m\u001b[0;34m\u001b[0m\u001b[0m\n\u001b[0m\u001b[1;32m    133\u001b[0m \u001b[0;34m\u001b[0m\u001b[0m\n\u001b[1;32m    134\u001b[0m         \u001b[0mrelErr\u001b[0m \u001b[0;34m=\u001b[0m \u001b[0;36m100\u001b[0m\u001b[0;34m\u001b[0m\u001b[0;34m\u001b[0m\u001b[0m\n",
      "\u001b[0;32m~/.local/lib/python3.8/site-packages/torch/optim/optimizer.py\u001b[0m in \u001b[0;36mwrapper\u001b[0;34m(*args, **kwargs)\u001b[0m\n\u001b[1;32m     86\u001b[0m                 \u001b[0mprofile_name\u001b[0m \u001b[0;34m=\u001b[0m \u001b[0;34m\"Optimizer.step#{}.step\"\u001b[0m\u001b[0;34m.\u001b[0m\u001b[0mformat\u001b[0m\u001b[0;34m(\u001b[0m\u001b[0mobj\u001b[0m\u001b[0;34m.\u001b[0m\u001b[0m__class__\u001b[0m\u001b[0;34m.\u001b[0m\u001b[0m__name__\u001b[0m\u001b[0;34m)\u001b[0m\u001b[0;34m\u001b[0m\u001b[0;34m\u001b[0m\u001b[0m\n\u001b[1;32m     87\u001b[0m                 \u001b[0;32mwith\u001b[0m \u001b[0mtorch\u001b[0m\u001b[0;34m.\u001b[0m\u001b[0mautograd\u001b[0m\u001b[0;34m.\u001b[0m\u001b[0mprofiler\u001b[0m\u001b[0;34m.\u001b[0m\u001b[0mrecord_function\u001b[0m\u001b[0;34m(\u001b[0m\u001b[0mprofile_name\u001b[0m\u001b[0;34m)\u001b[0m\u001b[0;34m:\u001b[0m\u001b[0;34m\u001b[0m\u001b[0;34m\u001b[0m\u001b[0m\n\u001b[0;32m---> 88\u001b[0;31m                     \u001b[0;32mreturn\u001b[0m \u001b[0mfunc\u001b[0m\u001b[0;34m(\u001b[0m\u001b[0;34m*\u001b[0m\u001b[0margs\u001b[0m\u001b[0;34m,\u001b[0m \u001b[0;34m**\u001b[0m\u001b[0mkwargs\u001b[0m\u001b[0;34m)\u001b[0m\u001b[0;34m\u001b[0m\u001b[0;34m\u001b[0m\u001b[0m\n\u001b[0m\u001b[1;32m     89\u001b[0m             \u001b[0;32mreturn\u001b[0m \u001b[0mwrapper\u001b[0m\u001b[0;34m\u001b[0m\u001b[0;34m\u001b[0m\u001b[0m\n\u001b[1;32m     90\u001b[0m \u001b[0;34m\u001b[0m\u001b[0m\n",
      "\u001b[0;32m~/.local/lib/python3.8/site-packages/torch/autograd/grad_mode.py\u001b[0m in \u001b[0;36mdecorate_context\u001b[0;34m(*args, **kwargs)\u001b[0m\n\u001b[1;32m     26\u001b[0m         \u001b[0;32mdef\u001b[0m \u001b[0mdecorate_context\u001b[0m\u001b[0;34m(\u001b[0m\u001b[0;34m*\u001b[0m\u001b[0margs\u001b[0m\u001b[0;34m,\u001b[0m \u001b[0;34m**\u001b[0m\u001b[0mkwargs\u001b[0m\u001b[0;34m)\u001b[0m\u001b[0;34m:\u001b[0m\u001b[0;34m\u001b[0m\u001b[0;34m\u001b[0m\u001b[0m\n\u001b[1;32m     27\u001b[0m             \u001b[0;32mwith\u001b[0m \u001b[0mself\u001b[0m\u001b[0;34m.\u001b[0m\u001b[0m__class__\u001b[0m\u001b[0;34m(\u001b[0m\u001b[0;34m)\u001b[0m\u001b[0;34m:\u001b[0m\u001b[0;34m\u001b[0m\u001b[0;34m\u001b[0m\u001b[0m\n\u001b[0;32m---> 28\u001b[0;31m                 \u001b[0;32mreturn\u001b[0m \u001b[0mfunc\u001b[0m\u001b[0;34m(\u001b[0m\u001b[0;34m*\u001b[0m\u001b[0margs\u001b[0m\u001b[0;34m,\u001b[0m \u001b[0;34m**\u001b[0m\u001b[0mkwargs\u001b[0m\u001b[0;34m)\u001b[0m\u001b[0;34m\u001b[0m\u001b[0;34m\u001b[0m\u001b[0m\n\u001b[0m\u001b[1;32m     29\u001b[0m         \u001b[0;32mreturn\u001b[0m \u001b[0mcast\u001b[0m\u001b[0;34m(\u001b[0m\u001b[0mF\u001b[0m\u001b[0;34m,\u001b[0m \u001b[0mdecorate_context\u001b[0m\u001b[0;34m)\u001b[0m\u001b[0;34m\u001b[0m\u001b[0;34m\u001b[0m\u001b[0m\n\u001b[1;32m     30\u001b[0m \u001b[0;34m\u001b[0m\u001b[0m\n",
      "\u001b[0;32m~/.local/lib/python3.8/site-packages/torch/optim/adam.py\u001b[0m in \u001b[0;36mstep\u001b[0;34m(self, closure)\u001b[0m\n\u001b[1;32m     64\u001b[0m         \u001b[0;32mif\u001b[0m \u001b[0mclosure\u001b[0m \u001b[0;32mis\u001b[0m \u001b[0;32mnot\u001b[0m \u001b[0;32mNone\u001b[0m\u001b[0;34m:\u001b[0m\u001b[0;34m\u001b[0m\u001b[0;34m\u001b[0m\u001b[0m\n\u001b[1;32m     65\u001b[0m             \u001b[0;32mwith\u001b[0m \u001b[0mtorch\u001b[0m\u001b[0;34m.\u001b[0m\u001b[0menable_grad\u001b[0m\u001b[0;34m(\u001b[0m\u001b[0;34m)\u001b[0m\u001b[0;34m:\u001b[0m\u001b[0;34m\u001b[0m\u001b[0;34m\u001b[0m\u001b[0m\n\u001b[0;32m---> 66\u001b[0;31m                 \u001b[0mloss\u001b[0m \u001b[0;34m=\u001b[0m \u001b[0mclosure\u001b[0m\u001b[0;34m(\u001b[0m\u001b[0;34m)\u001b[0m\u001b[0;34m\u001b[0m\u001b[0;34m\u001b[0m\u001b[0m\n\u001b[0m\u001b[1;32m     67\u001b[0m \u001b[0;34m\u001b[0m\u001b[0m\n\u001b[1;32m     68\u001b[0m         \u001b[0;32mfor\u001b[0m \u001b[0mgroup\u001b[0m \u001b[0;32min\u001b[0m \u001b[0mself\u001b[0m\u001b[0;34m.\u001b[0m\u001b[0mparam_groups\u001b[0m\u001b[0;34m:\u001b[0m\u001b[0;34m\u001b[0m\u001b[0;34m\u001b[0m\u001b[0m\n",
      "\u001b[0;32m<ipython-input-305-446b05675d13>\u001b[0m in \u001b[0;36mloss_func\u001b[0;34m(self)\u001b[0m\n\u001b[1;32m    115\u001b[0m \u001b[0;34m\u001b[0m\u001b[0m\n\u001b[1;32m    116\u001b[0m         \u001b[0mself\u001b[0m\u001b[0;34m.\u001b[0m\u001b[0moptimizer\u001b[0m\u001b[0;34m.\u001b[0m\u001b[0mzero_grad\u001b[0m\u001b[0;34m(\u001b[0m\u001b[0;34m)\u001b[0m\u001b[0;34m\u001b[0m\u001b[0;34m\u001b[0m\u001b[0m\n\u001b[0;32m--> 117\u001b[0;31m         \u001b[0mf\u001b[0m\u001b[0;34m,\u001b[0m\u001b[0malpha\u001b[0m \u001b[0;34m=\u001b[0m \u001b[0mself\u001b[0m\u001b[0;34m.\u001b[0m\u001b[0mnet_equid\u001b[0m\u001b[0;34m(\u001b[0m\u001b[0mself\u001b[0m\u001b[0;34m.\u001b[0m\u001b[0mN\u001b[0m\u001b[0;34m,\u001b[0m\u001b[0mself\u001b[0m\u001b[0;34m.\u001b[0m\u001b[0mxi\u001b[0m\u001b[0;34m)\u001b[0m\u001b[0;34m\u001b[0m\u001b[0;34m\u001b[0m\u001b[0m\n\u001b[0m\u001b[1;32m    118\u001b[0m         \u001b[0mLoss\u001b[0m \u001b[0;34m=\u001b[0m \u001b[0;34m(\u001b[0m\u001b[0;34m(\u001b[0m\u001b[0mself\u001b[0m\u001b[0;34m.\u001b[0m\u001b[0mN\u001b[0m\u001b[0;34m-\u001b[0m\u001b[0;36m1\u001b[0m\u001b[0;34m)\u001b[0m\u001b[0;34m**\u001b[0m\u001b[0;34m(\u001b[0m\u001b[0;36m2\u001b[0m\u001b[0;34m*\u001b[0m\u001b[0;34m(\u001b[0m\u001b[0mself\u001b[0m\u001b[0;34m.\u001b[0m\u001b[0mk\u001b[0m\u001b[0;34m-\u001b[0m\u001b[0mself\u001b[0m\u001b[0;34m.\u001b[0m\u001b[0mm\u001b[0m\u001b[0;34m+\u001b[0m\u001b[0;36m1\u001b[0m\u001b[0;34m)\u001b[0m\u001b[0;34m)\u001b[0m\u001b[0;34m)\u001b[0m\u001b[0;34m*\u001b[0m\u001b[0malpha\u001b[0m\u001b[0;34m*\u001b[0m\u001b[0mtorch\u001b[0m\u001b[0;34m.\u001b[0m\u001b[0msum\u001b[0m\u001b[0;34m(\u001b[0m\u001b[0mf\u001b[0m\u001b[0;34m)\u001b[0m\u001b[0;34m\u001b[0m\u001b[0;34m\u001b[0m\u001b[0m\n\u001b[1;32m    119\u001b[0m         \u001b[0mself\u001b[0m\u001b[0;34m.\u001b[0m\u001b[0mloss\u001b[0m\u001b[0;34m.\u001b[0m\u001b[0mappend\u001b[0m\u001b[0;34m(\u001b[0m\u001b[0mLoss\u001b[0m\u001b[0;34m)\u001b[0m\u001b[0;34m\u001b[0m\u001b[0;34m\u001b[0m\u001b[0m\n",
      "\u001b[0;32m<ipython-input-305-446b05675d13>\u001b[0m in \u001b[0;36mnet_equid\u001b[0;34m(self, N, xi)\u001b[0m\n\u001b[1;32m    103\u001b[0m \u001b[0;34m\u001b[0m\u001b[0m\n\u001b[1;32m    104\u001b[0m         \u001b[0mu\u001b[0m \u001b[0;34m=\u001b[0m \u001b[0mself\u001b[0m\u001b[0;34m.\u001b[0m\u001b[0mu\u001b[0m\u001b[0;34m(\u001b[0m\u001b[0;36m10\u001b[0m\u001b[0;34m*\u001b[0m\u001b[0mp\u001b[0m\u001b[0;34m)\u001b[0m\u001b[0;34m\u001b[0m\u001b[0;34m\u001b[0m\u001b[0m\n\u001b[0;32m--> 105\u001b[0;31m         \u001b[0mu_xx\u001b[0m \u001b[0;34m=\u001b[0m \u001b[0mself\u001b[0m\u001b[0;34m.\u001b[0m\u001b[0mderivative\u001b[0m\u001b[0;34m(\u001b[0m\u001b[0mp\u001b[0m\u001b[0;34m,\u001b[0m\u001b[0mu\u001b[0m\u001b[0;34m)\u001b[0m\u001b[0;34m\u001b[0m\u001b[0;34m\u001b[0m\u001b[0m\n\u001b[0m\u001b[1;32m    106\u001b[0m         \u001b[0malpha\u001b[0m \u001b[0;34m=\u001b[0m \u001b[0mself\u001b[0m\u001b[0;34m.\u001b[0m\u001b[0moptimal_alpha\u001b[0m\u001b[0;34m(\u001b[0m\u001b[0mh\u001b[0m\u001b[0;34m,\u001b[0m\u001b[0mu_xx\u001b[0m\u001b[0;34m)\u001b[0m\u001b[0;34m\u001b[0m\u001b[0;34m\u001b[0m\u001b[0m\n\u001b[1;32m    107\u001b[0m         \u001b[0mintegral\u001b[0m \u001b[0;34m=\u001b[0m \u001b[0;34m(\u001b[0m\u001b[0mu_xx\u001b[0m\u001b[0;34m**\u001b[0m\u001b[0;36m2\u001b[0m\u001b[0;34m)\u001b[0m\u001b[0;34m.\u001b[0m\u001b[0msqueeze\u001b[0m\u001b[0;34m(\u001b[0m\u001b[0;34m)\u001b[0m\u001b[0;34m\u001b[0m\u001b[0;34m\u001b[0m\u001b[0m\n",
      "\u001b[0;32m<ipython-input-305-446b05675d13>\u001b[0m in \u001b[0;36mderivative\u001b[0;34m(self, p, u)\u001b[0m\n\u001b[1;32m     59\u001b[0m             \u001b[0mu_interp\u001b[0m \u001b[0;34m=\u001b[0m \u001b[0mIUS\u001b[0m\u001b[0;34m(\u001b[0m\u001b[0mX\u001b[0m\u001b[0;34m,\u001b[0m\u001b[0mY\u001b[0m\u001b[0;34m)\u001b[0m\u001b[0;34m\u001b[0m\u001b[0;34m\u001b[0m\u001b[0m\n\u001b[1;32m     60\u001b[0m         \u001b[0;32mexcept\u001b[0m\u001b[0;34m:\u001b[0m\u001b[0;34m\u001b[0m\u001b[0;34m\u001b[0m\u001b[0m\n\u001b[0;32m---> 61\u001b[0;31m             \u001b[0;32mraise\u001b[0m \u001b[0mValueError\u001b[0m\u001b[0;34m\u001b[0m\u001b[0;34m\u001b[0m\u001b[0m\n\u001b[0m\u001b[1;32m     62\u001b[0m \u001b[0;34m\u001b[0m\u001b[0m\n\u001b[1;32m     63\u001b[0m         \u001b[0mu_x\u001b[0m \u001b[0;34m=\u001b[0m \u001b[0mu_interp\u001b[0m\u001b[0;34m.\u001b[0m\u001b[0mderivative\u001b[0m\u001b[0;34m(\u001b[0m\u001b[0;34m)\u001b[0m\u001b[0;34m\u001b[0m\u001b[0;34m\u001b[0m\u001b[0m\n",
      "\u001b[0;31mValueError\u001b[0m: "
     ]
    }
   ],
   "source": [
    "%%time\n",
    "\n",
    "t = 1\n",
    "it = 0\n",
    "# define n_epochs and train for that epochs \n",
    "while t and it < 50000:\n",
    "    t = model.train()\n",
    "    it += 1"
   ]
  },
  {
   "cell_type": "code",
   "execution_count": 149,
   "metadata": {},
   "outputs": [],
   "source": [
    "LOSS = model.get_loss()"
   ]
  },
  {
   "cell_type": "code",
   "execution_count": 150,
   "metadata": {},
   "outputs": [
    {
     "data": {
      "text/plain": [
       "Text(0, 0.5, 'loss')"
      ]
     },
     "execution_count": 150,
     "metadata": {},
     "output_type": "execute_result"
    },
    {
     "data": {
      "image/png": "[encoded data removed]",
      "text/plain": [
       "<Figure size 432x288 with 1 Axes>"
      ]
     },
     "metadata": {
      "needs_background": "light"
     },
     "output_type": "display_data"
    }
   ],
   "source": [
    "plt.semilogy(LOSS)\n",
    "plt.xlabel('iteration')\n",
    "plt.ylabel('loss')"
   ]
  },
  {
   "cell_type": "markdown",
   "metadata": {},
   "source": [
    "### Visualise result"
   ]
  },
  {
   "cell_type": "code",
   "execution_count": 151,
   "metadata": {},
   "outputs": [
    {
     "data": {
      "image/png": "[encoded data removed]",
      "text/plain": [
       "<Figure size 432x288 with 1 Axes>"
      ]
     },
     "metadata": {
      "needs_background": "light"
     },
     "output_type": "display_data"
    }
   ],
   "source": [
    "plt.plot(xi,model.predict(xi).detach().cpu().numpy())\n",
    "plt.show()"
   ]
  },
  {
   "cell_type": "code",
   "execution_count": 152,
   "metadata": {},
   "outputs": [
    {
     "data": {
      "image/png": "[encoded data removed]",
      "text/plain": [
       "<Figure size 432x288 with 1 Axes>"
      ]
     },
     "metadata": {
      "needs_background": "light"
     },
     "output_type": "display_data"
    }
   ],
   "source": [
    "plt.scatter(xi,u(10*(torch.tensor(xi))).numpy())\n",
    "plt.show()"
   ]
  },
  {
   "cell_type": "code",
   "execution_count": 153,
   "metadata": {},
   "outputs": [],
   "source": [
    "N = 5000\n",
    "a = -1\n",
    "b = 1\n",
    "\n",
    "si = np.linspace(a,b,N)\n",
    "X = model.predict(si).detach().cpu().numpy()"
   ]
  },
  {
   "cell_type": "code",
   "execution_count": 157,
   "metadata": {
    "scrolled": true
   },
   "outputs": [
    {
     "data": {
      "image/png": "[encoded data removed]",
      "text/plain": [
       "<Figure size 800x400 with 1 Axes>"
      ]
     },
     "metadata": {
      "needs_background": "light"
     },
     "output_type": "display_data"
    }
   ],
   "source": [
    "plt.figure(figsize=(10, 5), dpi=80)\n",
    "plt.scatter(X,u(10*(torch.tensor(X))).numpy(),s = 5e-2)\n",
    "plt.show()"
   ]
  },
  {
   "cell_type": "markdown",
   "metadata": {},
   "source": [
    "## Convergence rate with piecewise linear interpolation"
   ]
  },
  {
   "cell_type": "code",
   "execution_count": 158,
   "metadata": {},
   "outputs": [],
   "source": [
    "from scipy.interpolate import interp1d\n",
    "import scipy.integrate as integrate"
   ]
  },
  {
   "cell_type": "code",
   "execution_count": 137,
   "metadata": {},
   "outputs": [],
   "source": [
    "# evaluate L2 error between exact solution and linear interpolant "
   ]
  },
  {
   "cell_type": "code",
   "execution_count": 159,
   "metadata": {},
   "outputs": [],
   "source": [
    "def convRate(a,b,Nvec,equid=True):\n",
    "    Errvec = np.zeros_like(Nvec)\n",
    "    rate = np.zeros_like(Nvec[:-1])\n",
    "    for i,N in enumerate(Nvec):\n",
    "        x = np.linspace(a,b,N)\n",
    "        if not equid:\n",
    "            x = model.predict(x).detach().cpu().numpy()\n",
    "        y = np.tanh(x)\n",
    "        f_interp = interp1d(x,y)\n",
    "        err = integrate.quad(lambda x: (np.tanh(x) - f_interp(x))**2,a,b)[0]\n",
    "        Errvec[i] = np.sqrt(err)\n",
    "        \n",
    "    rate = np.log(Errvec[:-1]/Errvec[1:])/np.log(Nvec[1:]/Nvec[:-1])\n",
    "    return rate,Errvec"
   ]
  },
  {
   "cell_type": "code",
   "execution_count": 160,
   "metadata": {},
   "outputs": [],
   "source": [
    "Nvec = np.logspace(2.0,4.0,7)\n",
    "rate_unif,Errvec_unif = convRate(a,b,Nvec)\n",
    "rate,Errvec = convRate(a,b,Nvec,equid = False)"
   ]
  },
  {
   "cell_type": "code",
   "execution_count": 161,
   "metadata": {},
   "outputs": [
    {
     "data": {
      "image/png": "[encoded data removed]",
      "text/plain": [
       "<Figure size 432x288 with 1 Axes>"
      ]
     },
     "metadata": {
      "needs_background": "light"
     },
     "output_type": "display_data"
    }
   ],
   "source": [
    "plt.loglog(Nvec,Errvec_unif,'g-')\n",
    "plt.loglog(Nvec,Errvec,'k--')\n",
    "plt.xlabel('N')\n",
    "plt.ylabel('L2 error')\n",
    "plt.show()"
   ]
  }
 ],
 "metadata": {
  "kernelspec": {
   "display_name": "Python 3",
   "language": "python",
   "name": "python3"
  },
  "language_info": {
   "codemirror_mode": {
    "name": "ipython",
    "version": 3
   },
   "file_extension": ".py",
   "mimetype": "text/x-python",
   "name": "python",
   "nbconvert_exporter": "python",
   "pygments_lexer": "ipython3",
   "version": "3.8.10"
  }
 },
 "nbformat": 4,
 "nbformat_minor": 4
}
