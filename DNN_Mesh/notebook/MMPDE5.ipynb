{
 "cells": [
  {
   "cell_type": "markdown",
   "metadata": {},
   "source": [
    "# Implementation of MMPDE5 for equidistributing mesh"
   ]
  },
  {
   "cell_type": "code",
   "execution_count": 145,
   "metadata": {},
   "outputs": [],
   "source": [
    "import numpy as np\n",
    "import matplotlib.pyplot as plt\n",
    "import time"
   ]
  },
  {
   "cell_type": "code",
   "execution_count": null,
   "metadata": {},
   "outputs": [],
   "source": []
  },
  {
   "cell_type": "code",
   "execution_count": 65,
   "metadata": {},
   "outputs": [],
   "source": [
    "# define exact solution and monitor function used for equidistribution \n",
    "def u(x): return x**(2.0/3.0)\n",
    "def u_xx(x): return (-2.0/9.0)*x**(-4.0/3.0)\n",
    "    \n",
    "# use optimal density function for piecewise linear interpolation\n",
    "alpha = 1\n",
    "def p(x): return np.power(1 + 1/alpha*np.abs(u_xx(x))**2,1/5)"
   ]
  },
  {
   "cell_type": "code",
   "execution_count": 154,
   "metadata": {},
   "outputs": [],
   "source": [
    "# create uniform computational mesh\n",
    "N = 101\n",
    "x_l = 0.0\n",
    "x_r = 1.0\n",
    "xi = np.linspace(x_l,x_r,N)"
   ]
  },
  {
   "cell_type": "code",
   "execution_count": 151,
   "metadata": {},
   "outputs": [],
   "source": [
    "# use central finite difference and backward Euler for spatial and time discretization, respectively\n",
    "dxi = 1/(N-1)\n",
    "dt = 0.001\n",
    "tau = 1\n",
    "\n",
    "c = dt/(tau*dxi**2)"
   ]
  },
  {
   "cell_type": "code",
   "execution_count": 153,
   "metadata": {},
   "outputs": [],
   "source": [
    "def compute_A(x,eps = 1e-12):\n",
    "    \n",
    "    A = np.zeros((N,N))\n",
    "    # impose boundary conditions\n",
    "    A[0,0] = 1.0\n",
    "    A[-1,-1] = 1.0\n",
    "    for j in range(1,N-1):\n",
    "        C = c/p(x[j] + eps)\n",
    "        p1 = (p(x[j+1] + eps) + p(x[j]) + eps)/2\n",
    "        p2 = (p(x[j] + eps) + p(x[j-1] + eps))/2\n",
    "\n",
    "        v1 = -C*p2\n",
    "        v2 = 1 + C*p1 + C*p2\n",
    "        v3 = -C*p1\n",
    "\n",
    "        A[j,j-1:j+2] = [v1,v2,v3]\n",
    "    \n",
    "    return A"
   ]
  },
  {
   "cell_type": "code",
   "execution_count": 146,
   "metadata": {},
   "outputs": [],
   "source": [
    "# solve linear system with \n",
    "relErr = 1\n",
    "\n",
    "# initial condition \n",
    "x = xi\n",
    "\n",
    "t0 = time.time()\n",
    "while relErr > 1e-8:\n",
    "    A = compute_A(x)\n",
    "    x_new = np.linalg.solve(A, x)\n",
    "    relErr = np.max(np.abs(x_new[1:-1] - x[1:-1]))\n",
    "    x = x_new\n",
    "    \n",
    "t = time.time() - t0"
   ]
  },
  {
   "cell_type": "code",
   "execution_count": 147,
   "metadata": {},
   "outputs": [
    {
     "data": {
      "image/png": "[encoded data removed]",
      "text/plain": [
       "<Figure size 432x288 with 1 Axes>"
      ]
     },
     "metadata": {
      "needs_background": "light"
     },
     "output_type": "display_data"
    }
   ],
   "source": [
    "plt.plot(xi,x)\n",
    "plt.show()"
   ]
  },
  {
   "cell_type": "code",
   "execution_count": 148,
   "metadata": {},
   "outputs": [
    {
     "name": "stderr",
     "output_type": "stream",
     "text": [
      "<ipython-input-65-81439ea1a580>:2: RuntimeWarning: invalid value encountered in power\n",
      "  def u(x): return x**(2.0/3.0)\n"
     ]
    },
    {
     "data": {
      "image/png": "[encoded data removed]",
      "text/plain": [
       "<Figure size 720x576 with 1 Axes>"
      ]
     },
     "metadata": {
      "needs_background": "light"
     },
     "output_type": "display_data"
    }
   ],
   "source": [
    "plt.figure(figsize = (10,8))\n",
    "plt.scatter(x,u(x),s = 0.8)\n",
    "plt.show()"
   ]
  },
  {
   "cell_type": "code",
   "execution_count": 149,
   "metadata": {},
   "outputs": [
    {
     "data": {
      "text/plain": [
       "4.757467031478882"
      ]
     },
     "execution_count": 149,
     "metadata": {},
     "output_type": "execute_result"
    }
   ],
   "source": [
    "# mesh quality\n",
    "# error of interpolant with respect to correct solution "
   ]
  }
 ],
 "metadata": {
  "kernelspec": {
   "display_name": "Python 3",
   "language": "python",
   "name": "python3"
  },
  "language_info": {
   "codemirror_mode": {
    "name": "ipython",
    "version": 3
   },
   "file_extension": ".py",
   "mimetype": "text/x-python",
   "name": "python",
   "nbconvert_exporter": "python",
   "pygments_lexer": "ipython3",
   "version": "3.8.10"
  }
 },
 "nbformat": 4,
 "nbformat_minor": 2
}
